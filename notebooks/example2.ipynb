{
 "cells": [
  {
   "cell_type": "code",
   "execution_count": 1,
   "metadata": {},
   "outputs": [],
   "source": [
    "from puppy.unfolder import PhononUnfolder\n",
    "from puppy.plotting import UnfolderPlotting\n",
    "from puppy.unfolder import * \n",
    "import matplotlib.pyplot as plt"
   ]
  },
  {
   "cell_type": "code",
   "execution_count": 2,
   "metadata": {},
   "outputs": [],
   "source": [
    "import os\n",
    "from phonopy import load\n",
    "from phonopy.phonon.band_structure import get_band_qpoints_and_path_connections\n",
    "from pymatgen.core import Structure\n",
    "import itertools as it\n",
    "from tqdm import tqdm\n",
    "from ase import io\n",
    "from ase.dft.kpoints import *\n",
    "import numpy as np \n",
    "from phonopy.file_IO import parse_FORCE_SETS\n",
    "from phonopy.interface.vasp import read_vasp \n",
    "from phonopy.structure.cells import get_supercell\n",
    "from phonopy import Phonopy\n",
    "from phonopy.unfolding.core import Unfolding\n",
    "from phonopy.interface.calculator import read_crystal_structure\n",
    "from phonopy.phonon.band_structure import BandStructure, get_band_qpoints_by_seekpath\n",
    "from pymatgen.io.phonopy import eigvec_to_eigdispl\n",
    "\n",
    "class PhononUnfolder:\n",
    "    \n",
    "    def __init__(self,dict_of_locations,expansion,**kwargs):\n",
    "        self.data = dict_of_locations\n",
    "        self.expansion = expansion\n",
    "        self.progress = kwargs['tqdm_disable']\n",
    "        \n",
    "    def get_possible_path(self,tol=0.01):\n",
    "        atoms = io.read(filename=os.path.join(self.data['host_directory'],'POSCAR')) \n",
    "        points = get_special_points(atoms.cell, eps=tol)\n",
    "        kpath  = {}\n",
    "        lists = list(points.keys())\n",
    "        for i,k in enumerate(lists):\n",
    "            if not i == len(lists)-1:\n",
    "                k1,k2 = lists[i],lists[i+1]\n",
    "                kpath['{}-{}'.format(k1,k2)] = [points[k1],points[k2]]\n",
    "        return(kpath)\n",
    "\n",
    "    def get_phonopy_defect_data_2(self,line_density=101): # rehash to not use phonopy but pymatgen\n",
    "        '''generates a phonopy band structure object from the defect supercell\n",
    "        todo:\n",
    "        * make it so you can use .gz files\n",
    "        * add custom kpoint path without the kernel crashing'''\n",
    "        bands,labels,path_connections = get_band_qpoints_by_seekpath(primitive=self.primitive,\n",
    "                                                             npoints=line_density,\n",
    "                                                             is_const_interval=True)\n",
    "        ph = load(supercell_filename=os.path.join(self.data['defect_directory'],'SPOSCAR'),\n",
    "                  force_sets_filename=os.path.join(self.data['defect_directory'],'FORCE_SETS'),\n",
    "                  log_level=0)\n",
    "        ph.run_band_structure(bands,\n",
    "                              with_eigenvectors=True,\n",
    "                              path_connections=path_connections,\n",
    "                              labels=labels)\n",
    "        band_data = ph.get_band_structure_dict()\n",
    "        self.defect_band_data = band_data\n",
    "        self.defect_band_data['connections'] = path_connections\n",
    "        self.supercell = ph.supercell\n",
    "        self.defect_phonons = ph\n",
    "        self.labels = labels\n",
    "    \n",
    "    def get_phonopy_primitive_data_2(self,line_density=101):\n",
    "        '''todo:\n",
    "        * make it so you can use .gz files\n",
    "        * add custom kpoint path without the kernel crashing'''\n",
    "        ph = load(supercell_filename=os.path.join(self.data['host_directory'],'SPOSCAR'),\n",
    "                  force_sets_filename=os.path.join(self.data['host_directory'],'FORCE_SETS'),\n",
    "                  log_level=0)\n",
    "        ph.auto_band_structure(with_eigenvectors='False')\n",
    "        band_data=ph.get_band_structure_dict()\n",
    "        self.primitive_band_data = band_data\n",
    "        #self.primitive_band_data['connections'] = connections\n",
    "        self.primitive = ph.primitive\n",
    "        self.primitive_phonons = ph\n",
    "    \n",
    "    @staticmethod   \n",
    "    def label_formatter(labels,special_points):\n",
    "        labs = []\n",
    "        for i,j in enumerate(labels):\n",
    "            if j == '$\\\\Gamma$':\n",
    "                labs.append({'G':special_points[i]})\n",
    "            else:\n",
    "                clean = j.split('$')[1].split('{')[1].split('}')[0]            \n",
    "                labs.append({clean:special_points[i]})\n",
    "        return(labs)\n",
    "\n",
    "    def get_primitive_qpts(self,tol=0.01,line_density=100):\n",
    "        special_points = [x[0] for x in self.defect_phonons.band_structure.qpoints] # this can be tidied up\n",
    "        special_points.append(self.defect_phonons.band_structure.qpoints[-1][-1]) # this can be tidied up \n",
    "\n",
    "        points = get_special_points(self.primitive.cell, eps=tol)\n",
    "        kpath = self.label_formatter(self.labels,special_points)\n",
    "        Q = [x for k in kpath for x,y in points.items() if all(y==k[list(k)[0]])]\n",
    "        #Q = list(points)\n",
    "        path = bandpath(Q,self.primitive.cell,line_density) \n",
    "        qpts = path.kpts\n",
    "        (q,line,label) = path.get_linear_kpoint_axis()        \n",
    "        return({'q':q,'line':line,'label':label,'qpts':qpts})\n",
    "    \n",
    "    def get_neighbour_sites(self,tol=3):\n",
    "        struct = Structure.from_file(os.path.join(self.data['host_directory'],'SPOSCAR'))\n",
    "        nearest_neighbours = struct.get_neighbor_list(tol,\n",
    "                                                      sites=[struct.sites[self.data['defect_index']]])[1]\n",
    "        unique_elements = list(dict.fromkeys([x.species_string for x in struct.sites]))\n",
    "        neighbours = {}\n",
    "        for elem in unique_elements:\n",
    "            neighbours[elem] = [x for x in nearest_neighbours \n",
    "                                if struct.sites[x].species_string == elem]\n",
    "        return(neighbours)\n",
    "    \n",
    "    def get_eigendisplacements(self,band_data,sites):\n",
    "    \n",
    "        supercell = self.supercell\n",
    "        atom_coords = supercell.get_scaled_positions()\n",
    "        num_atoms = supercell.get_number_of_atoms()\n",
    "        masses = supercell.get_masses()\n",
    "        qpoints = band_data['qpoints'] # what is this all about? surely we should do more?\n",
    "        distances = band_data['distances']\n",
    "        frequencies = band_data['frequencies']\n",
    "        eigenvectors = np.asarray(band_data['eigenvectors'],dtype='object') # check this!!!!!!\n",
    "        connections = band_data['connections']\n",
    "        true_q = [i for i in connections if i]        \n",
    "        #iterations = int(np.product(np.shape(eigenvectors)[0:3]))\n",
    "        \n",
    "\n",
    "        \n",
    "        total = [] # we want one \"displacement\" per qpoint and frequency based on sites in radius around defect\n",
    "        #with tqdm(total=iterations,disable=self.progress) as pbar:\n",
    "        for i in range(len(true_q)):\n",
    "            total.append([])\n",
    "            for q in range(len(qpoints[i])):\n",
    "                total[i].append([])\n",
    "                for w in range(len(frequencies[i][q])):\n",
    "                \n",
    "                    mean = [[np.linalg.norm(eigvec_to_eigdispl(eigenvectors[i][q][w][at],\n",
    "                                                                          q=qpoints[i][q],\n",
    "                                                                          frac_coords=atom_coords[at],\n",
    "                                                                          mass=masses[at])) for elem in sites if elem == at] for at in range(num_atoms)]\n",
    "                    total[i][q].append(np.mean(list(it.chain(*mean))))\n",
    "        self.eigendisplacements = total\n",
    "\n",
    "    def phonon_unfolder(self,prim_data): # could make it allow alloys in future\n",
    "        #preamble setup \n",
    "        qpts = prim_data['qpts']\n",
    "        line = prim_data['line']\n",
    "        labels = prim_data['label']\n",
    "        dim = self.expansion\n",
    "\n",
    "        if len(dim) == 9:\n",
    "            smatrix = np.reshape(dim,[3,3])\n",
    "        elif len(dim) == 3:\n",
    "            smatrix = np.zeros(9)\n",
    "            for i in range(len(dim)):\n",
    "                smatrix[i*4] = dim[i]\n",
    "            smatrix = np.reshape(smatrix,[3,3])\n",
    "        \n",
    "        defect_index = self.data['defect_index']\n",
    "        forcesets = parse_FORCE_SETS(filename=os.path.join(self.data['defect_directory'],'FORCE_SETS'))  \n",
    "        \n",
    "        pmatrix = np.linalg.inv(smatrix) \n",
    "        # setting up phonopy object\n",
    "        prim_cell = read_vasp(os.path.join(self.data['host_directory'],'POSCAR')) \n",
    "        perf_supercell = get_supercell(prim_cell,smatrix)\n",
    "        def_supercell = read_vasp(os.path.join(self.data['defect_directory'],'SPOSCAR'))\n",
    "        phonon = Phonopy(def_supercell,np.diag([1,1,1]))\n",
    "        phonon.dataset = forcesets\n",
    "        phonon.produce_force_constants()\n",
    "        mapping = [x for x in range(perf_supercell.get_number_of_atoms())]\n",
    "        mapping[defect_index] = None\n",
    "        # unfolding\n",
    "        unfold = Unfolding(phonon=phonon, \n",
    "                           supercell_matrix=smatrix, \n",
    "                           ideal_positions=perf_supercell.get_scaled_positions(),\n",
    "                           atom_mapping=mapping,\n",
    "                           qpoints=qpts)\n",
    "        unfold.run()\n",
    "        weights = unfold.get_unfolding_weights()\n",
    "        freqs = unfold.get_frequencies()\n",
    "\n",
    "        self.unfolded_data = {'f':freqs,'w':weights}\n",
    "        \n",
    "    def run_all(self,kpaths=None,site_tol=3,sym_tol=0.01,line_density=100,eigendisplacement_atom=None):\n",
    "        # could be worth having an automatic kpath generator if not defined\n",
    "        bs_p = self.get_phonopy_primitive_data([kpaths[kpath] for kpath in kpaths],line_density) # do the primitive kpoints all in one\n",
    "        \n",
    "        data = {}\n",
    "        for kpath in tqdm(kpaths): # this can be multiprocessed in future\n",
    "            bs_d = self.get_phonopy_defect_data(kpaths[kpath],line_density)\n",
    "            s = self.get_neighbour_sites(site_tol)\n",
    "            pq = self.get_primitive_qpts(kpaths[kpath],sym_tol,line_density)\n",
    "            u = self.phonon_unfolder(pq)\n",
    "            if not eigendisplacement_atom == None:\n",
    "                e = self.get_eigendisplacements(bs_d,s[eigendisplacement_atom])\n",
    "                data[kpath] = {'bs':bs_d,'sites':s,'prim_data':pq,'unfolded_data':u,'eigendisplacements':e}\n",
    "            else:\n",
    "                data[kpath] = {'bs':bs_d,'sites':s,'prim_data':pq,'unfolded_data':u}\n",
    "        return({'data':data,'prim':bs_p})"
   ]
  },
  {
   "cell_type": "code",
   "execution_count": 3,
   "metadata": {},
   "outputs": [],
   "source": [
    "directories = {'defect_directory':'/Users/badw/Documents/ntnu-projects/LiAlCl4/KAlCl4/V_K/0/phonons/',\n",
    "                     'host_directory':'/Users/badw/Documents/ntnu-projects/LiAlCl4/pbesol/phonons/2x2x1/',\n",
    "                    'defect_index':6}"
   ]
  },
  {
   "cell_type": "code",
   "execution_count": 4,
   "metadata": {},
   "outputs": [
    {
     "name": "stdout",
     "output_type": "stream",
     "text": [
      "CPU times: user 3min 2s, sys: 1min 30s, total: 4min 32s\n",
      "Wall time: 34 s\n"
     ]
    }
   ],
   "source": [
    "pup = PhononUnfolder(dict_of_locations=directories,expansion=[1,1,2],**{'tqdm_disable':False})\n",
    "pup.get_phonopy_primitive_data_2()\n",
    "%time pup.get_phonopy_defect_data_2()"
   ]
  },
  {
   "cell_type": "code",
   "execution_count": 5,
   "metadata": {},
   "outputs": [],
   "source": [
    "#pup.defect_phonons.plot_band_structure()"
   ]
  },
  {
   "cell_type": "code",
   "execution_count": 6,
   "metadata": {},
   "outputs": [],
   "source": [
    "bs_d = pup.defect_band_data\n",
    "s = pup.get_neighbour_sites(tol=3)\n",
    "pq = pup.get_primitive_qpts()\n",
    "u = pup.phonon_unfolder(pq)\n",
    "e = pup.get_eigendisplacements(bs_d,s['Cl'])"
   ]
  },
  {
   "cell_type": "code",
   "execution_count": 7,
   "metadata": {},
   "outputs": [],
   "source": [
    "datadict = {'data':{'bs':bs_d,'sites':s,'prim_data':pq,'unfolded_data':u,'eigendisplacements':e},\n",
    "            'prim_data':pup.primitive_band_data}"
   ]
  },
  {
   "cell_type": "code",
   "execution_count": 42,
   "metadata": {},
   "outputs": [],
   "source": [
    "def get_eigendisplacements(pup,band_data,sites):\n",
    "    supercell = pup.supercell\n",
    "    atom_coords = supercell.get_scaled_positions()\n",
    "    num_atoms = supercell.get_number_of_atoms()\n",
    "    masses = supercell.get_masses()\n",
    "    kpath = band_data['qpoints']\n",
    "    connections = band_data['connections']\n",
    "    true_q = [i for i in connections if i]        \n",
    "\n",
    "\n",
    "    total = []\n",
    "    for k in range(len(kpath)): # true_q?\n",
    "        qpoints = band_data['qpoints'][k] \n",
    "        distances = band_data['distances'][k]\n",
    "        frequencies = band_data['frequencies'][k]\n",
    "        eigenvectors = band_data['eigenvectors'][k]\n",
    "        \n",
    "        total.append([])\n",
    "        for q in range(len(qpoints)): #95\n",
    "            total[k].append([])\n",
    "            for w in range(len(frequencies[q])): # 285\n",
    "                eig = np.reshape(eigenvectors[q][w],(num_atoms,3))\n",
    "                mean = [\n",
    "                    [\n",
    "                        np.linalg.norm(eigvec_to_eigdispl(eig[at],\n",
    "                                                           q=qpoints[q],\n",
    "                                                           frac_coords=atom_coords[at],\n",
    "                                                           mass=masses[at])) for elem in sites if elem == at\n",
    "                                                           ] \n",
    "                                                           for at in range(num_atoms)\n",
    "                                                           ]\n",
    "                total[k][q].append(np.mean(list(it.chain(*mean))))\n",
    "\n",
    "    return(total)"
   ]
  },
  {
   "cell_type": "code",
   "execution_count": 43,
   "metadata": {},
   "outputs": [],
   "source": [
    "qpoints = pup.defect_band_data['qpoints']\n",
    "distances = pup.defect_band_data['distances']\n",
    "frequencies = pup.defect_band_data['frequencies']\n",
    "eigenvectors = pup.defect_band_data['eigenvectors']\n",
    "connections = pup.defect_band_data['connections']\n",
    "supercell = pup.supercell\n",
    "masses = supercell.get_masses()"
   ]
  },
  {
   "cell_type": "code",
   "execution_count": 44,
   "metadata": {},
   "outputs": [],
   "source": [
    "d = get_eigendisplacements(pup,pup.defect_band_data,s['Cl'])"
   ]
  },
  {
   "cell_type": "code",
   "execution_count": 45,
   "metadata": {},
   "outputs": [
    {
     "data": {
      "text/plain": [
       "(10, 10, 10, 10, 10)"
      ]
     },
     "execution_count": 45,
     "metadata": {},
     "output_type": "execute_result"
    }
   ],
   "source": [
    "len(qpoints),len(distances),len(frequencies),len(eigenvectors),len(d)"
   ]
  },
  {
   "cell_type": "code",
   "execution_count": 122,
   "metadata": {},
   "outputs": [
    {
     "ename": "IndexError",
     "evalue": "list index out of range",
     "output_type": "error",
     "traceback": [
      "\u001b[0;31m---------------------------------------------------------------------------\u001b[0m",
      "\u001b[0;31mIndexError\u001b[0m                                Traceback (most recent call last)",
      "\u001b[1;32m/Users/badw/github-projects/puppy/notebooks/example2.ipynb Cell 11\u001b[0m line \u001b[0;36m2\n\u001b[1;32m     <a href='vscode-notebook-cell:/Users/badw/github-projects/puppy/notebooks/example2.ipynb#Y144sZmlsZQ%3D%3D?line=18'>19</a>\u001b[0m norm \u001b[39m=\u001b[39m Normalize(vmin\u001b[39m=\u001b[39m\u001b[39m0.0\u001b[39m,vmax\u001b[39m=\u001b[39mnp\u001b[39m.\u001b[39mmax(wts))\n\u001b[1;32m     <a href='vscode-notebook-cell:/Users/badw/github-projects/puppy/notebooks/example2.ipynb#Y144sZmlsZQ%3D%3D?line=20'>21</a>\u001b[0m qpts \u001b[39m=\u001b[39m [[q \u001b[39mfor\u001b[39;00m x \u001b[39min\u001b[39;00m \u001b[39mrange\u001b[39m(\u001b[39mlen\u001b[39m(uf[\u001b[39m0\u001b[39m]))] \u001b[39mfor\u001b[39;00m q \u001b[39min\u001b[39;00m pq]\n\u001b[0;32m---> <a href='vscode-notebook-cell:/Users/badw/github-projects/puppy/notebooks/example2.ipynb#Y144sZmlsZQ%3D%3D?line=21'>22</a>\u001b[0m col \u001b[39m=\u001b[39m [[mcolors\u001b[39m.\u001b[39mto_rgba([eigendisp[\u001b[39m1\u001b[39m][w1][w2]\u001b[39m/\u001b[39mmax_disp,\u001b[39m0.0\u001b[39m,\u001b[39m0.0\u001b[39m],alpha\u001b[39m=\u001b[39mwts[w1][w2]\u001b[39m*\u001b[39mthreshold) \u001b[39m# threshold not really a threshold.... more a multiplier\u001b[39;00m\n\u001b[1;32m     <a href='vscode-notebook-cell:/Users/badw/github-projects/puppy/notebooks/example2.ipynb#Y144sZmlsZQ%3D%3D?line=22'>23</a>\u001b[0m         \u001b[39mfor\u001b[39;00m w2 \u001b[39min\u001b[39;00m \u001b[39mrange\u001b[39m(\u001b[39mlen\u001b[39m(wts[w1]))] \n\u001b[1;32m     <a href='vscode-notebook-cell:/Users/badw/github-projects/puppy/notebooks/example2.ipynb#Y144sZmlsZQ%3D%3D?line=23'>24</a>\u001b[0m         \u001b[39mfor\u001b[39;00m w1 \u001b[39min\u001b[39;00m \u001b[39mrange\u001b[39m(\u001b[39mlen\u001b[39m(wts))]\n",
      "\u001b[1;32m/Users/badw/github-projects/puppy/notebooks/example2.ipynb Cell 11\u001b[0m line \u001b[0;36m2\n\u001b[1;32m     <a href='vscode-notebook-cell:/Users/badw/github-projects/puppy/notebooks/example2.ipynb#Y144sZmlsZQ%3D%3D?line=18'>19</a>\u001b[0m norm \u001b[39m=\u001b[39m Normalize(vmin\u001b[39m=\u001b[39m\u001b[39m0.0\u001b[39m,vmax\u001b[39m=\u001b[39mnp\u001b[39m.\u001b[39mmax(wts))\n\u001b[1;32m     <a href='vscode-notebook-cell:/Users/badw/github-projects/puppy/notebooks/example2.ipynb#Y144sZmlsZQ%3D%3D?line=20'>21</a>\u001b[0m qpts \u001b[39m=\u001b[39m [[q \u001b[39mfor\u001b[39;00m x \u001b[39min\u001b[39;00m \u001b[39mrange\u001b[39m(\u001b[39mlen\u001b[39m(uf[\u001b[39m0\u001b[39m]))] \u001b[39mfor\u001b[39;00m q \u001b[39min\u001b[39;00m pq]\n\u001b[0;32m---> <a href='vscode-notebook-cell:/Users/badw/github-projects/puppy/notebooks/example2.ipynb#Y144sZmlsZQ%3D%3D?line=21'>22</a>\u001b[0m col \u001b[39m=\u001b[39m [[mcolors\u001b[39m.\u001b[39mto_rgba([eigendisp[\u001b[39m1\u001b[39m][w1][w2]\u001b[39m/\u001b[39mmax_disp,\u001b[39m0.0\u001b[39m,\u001b[39m0.0\u001b[39m],alpha\u001b[39m=\u001b[39mwts[w1][w2]\u001b[39m*\u001b[39mthreshold) \u001b[39m# threshold not really a threshold.... more a multiplier\u001b[39;00m\n\u001b[1;32m     <a href='vscode-notebook-cell:/Users/badw/github-projects/puppy/notebooks/example2.ipynb#Y144sZmlsZQ%3D%3D?line=22'>23</a>\u001b[0m         \u001b[39mfor\u001b[39;00m w2 \u001b[39min\u001b[39;00m \u001b[39mrange\u001b[39m(\u001b[39mlen\u001b[39m(wts[w1]))] \n\u001b[1;32m     <a href='vscode-notebook-cell:/Users/badw/github-projects/puppy/notebooks/example2.ipynb#Y144sZmlsZQ%3D%3D?line=23'>24</a>\u001b[0m         \u001b[39mfor\u001b[39;00m w1 \u001b[39min\u001b[39;00m \u001b[39mrange\u001b[39m(\u001b[39mlen\u001b[39m(wts))]\n",
      "\u001b[1;32m/Users/badw/github-projects/puppy/notebooks/example2.ipynb Cell 11\u001b[0m line \u001b[0;36m2\n\u001b[1;32m     <a href='vscode-notebook-cell:/Users/badw/github-projects/puppy/notebooks/example2.ipynb#Y144sZmlsZQ%3D%3D?line=18'>19</a>\u001b[0m norm \u001b[39m=\u001b[39m Normalize(vmin\u001b[39m=\u001b[39m\u001b[39m0.0\u001b[39m,vmax\u001b[39m=\u001b[39mnp\u001b[39m.\u001b[39mmax(wts))\n\u001b[1;32m     <a href='vscode-notebook-cell:/Users/badw/github-projects/puppy/notebooks/example2.ipynb#Y144sZmlsZQ%3D%3D?line=20'>21</a>\u001b[0m qpts \u001b[39m=\u001b[39m [[q \u001b[39mfor\u001b[39;00m x \u001b[39min\u001b[39;00m \u001b[39mrange\u001b[39m(\u001b[39mlen\u001b[39m(uf[\u001b[39m0\u001b[39m]))] \u001b[39mfor\u001b[39;00m q \u001b[39min\u001b[39;00m pq]\n\u001b[0;32m---> <a href='vscode-notebook-cell:/Users/badw/github-projects/puppy/notebooks/example2.ipynb#Y144sZmlsZQ%3D%3D?line=21'>22</a>\u001b[0m col \u001b[39m=\u001b[39m [[mcolors\u001b[39m.\u001b[39mto_rgba([eigendisp[\u001b[39m1\u001b[39;49m][w1][w2]\u001b[39m/\u001b[39mmax_disp,\u001b[39m0.0\u001b[39m,\u001b[39m0.0\u001b[39m],alpha\u001b[39m=\u001b[39mwts[w1][w2]\u001b[39m*\u001b[39mthreshold) \u001b[39m# threshold not really a threshold.... more a multiplier\u001b[39;00m\n\u001b[1;32m     <a href='vscode-notebook-cell:/Users/badw/github-projects/puppy/notebooks/example2.ipynb#Y144sZmlsZQ%3D%3D?line=22'>23</a>\u001b[0m         \u001b[39mfor\u001b[39;00m w2 \u001b[39min\u001b[39;00m \u001b[39mrange\u001b[39m(\u001b[39mlen\u001b[39m(wts[w1]))] \n\u001b[1;32m     <a href='vscode-notebook-cell:/Users/badw/github-projects/puppy/notebooks/example2.ipynb#Y144sZmlsZQ%3D%3D?line=23'>24</a>\u001b[0m         \u001b[39mfor\u001b[39;00m w1 \u001b[39min\u001b[39;00m \u001b[39mrange\u001b[39m(\u001b[39mlen\u001b[39m(wts))]\n",
      "\u001b[0;31mIndexError\u001b[0m: list index out of range"
     ]
    }
   ],
   "source": [
    "import matplotlib.pyplot as plt\n",
    "from matplotlib.colors import Normalize\n",
    "from matplotlib import colors as mcolors\n",
    "import numpy as np\n",
    "import itertools as it\n",
    "\n",
    "labels = pq['label']\n",
    "lines = pq['line']\n",
    "pq_q = pq['q']\n",
    "maxpq_q = np.max(pq_q)\n",
    "\n",
    "threshold = 0.5\n",
    "\n",
    "uf = pup.unfolded_data['f']\n",
    "wts = pup.unfolded_data['w']\n",
    "eigendisp = pup.eigendisplacements\n",
    "max_disp = np.max([np.max(x) for x in eigendisp])\n",
    "\n",
    "norm = Normalize(vmin=0.0,vmax=np.max(wts))\n",
    "\n",
    "qpts = [[q for x in range(len(uf[0]))] for q in pq]\n",
    "col = [[mcolors.to_rgba([eigendisp[1][w1][w2]/max_disp,0.0,0.0],alpha=wts[w1][w2]*threshold) # threshold not really a threshold.... more a multiplier\n",
    "        for w2 in range(len(wts[w1]))] \n",
    "        for w1 in range(len(wts))] "
   ]
  },
  {
   "cell_type": "code",
   "execution_count": 20,
   "metadata": {},
   "outputs": [],
   "source": [
    "bs = data['bs']"
   ]
  },
  {
   "cell_type": "code",
   "execution_count": 34,
   "metadata": {},
   "outputs": [],
   "source": [
    "p_bs = data['prim_data']"
   ]
  },
  {
   "cell_type": "code",
   "execution_count": 38,
   "metadata": {},
   "outputs": [
    {
     "data": {
      "text/plain": [
       "['G',\n",
       " 'A',\n",
       " 'C',\n",
       " 'D',\n",
       " 'Z',\n",
       " 'D1',\n",
       " 'E',\n",
       " 'H',\n",
       " 'H1',\n",
       " 'X',\n",
       " 'H2',\n",
       " 'M',\n",
       " 'M1',\n",
       " 'A',\n",
       " 'M2',\n",
       " 'X',\n",
       " 'Y',\n",
       " 'G',\n",
       " 'Y1',\n",
       " 'Z']"
      ]
     },
     "execution_count": 38,
     "metadata": {},
     "output_type": "execute_result"
    }
   ],
   "source": [
    "labels = p_bs['label']"
   ]
  },
  {
   "cell_type": "code",
   "execution_count": 31,
   "metadata": {},
   "outputs": [
    {
     "data": {
      "text/plain": [
       "10"
      ]
     },
     "execution_count": 31,
     "metadata": {},
     "output_type": "execute_result"
    }
   ],
   "source": [
    "len(datadict['data']['bs']['connections'])"
   ]
  },
  {
   "cell_type": "code",
   "execution_count": 11,
   "metadata": {},
   "outputs": [
    {
     "ename": "KeyError",
     "evalue": "'prim_data'",
     "output_type": "error",
     "traceback": [
      "\u001b[0;31m---------------------------------------------------------------------------\u001b[0m",
      "\u001b[0;31mKeyError\u001b[0m                                  Traceback (most recent call last)",
      "\u001b[1;32m/Users/badw/github-projects/puppy/notebooks/example2.ipynb Cell 11\u001b[0m line \u001b[0;36m4\n\u001b[1;32m      <a href='vscode-notebook-cell:/Users/badw/github-projects/puppy/notebooks/example2.ipynb#X64sZmlsZQ%3D%3D?line=1'>2</a>\u001b[0m plt\u001b[39m.\u001b[39mstyle\u001b[39m.\u001b[39muse(sumo_base_style)\n\u001b[1;32m      <a href='vscode-notebook-cell:/Users/badw/github-projects/puppy/notebooks/example2.ipynb#X64sZmlsZQ%3D%3D?line=2'>3</a>\u001b[0m fig,ax \u001b[39m=\u001b[39m plt\u001b[39m.\u001b[39msubplots(figsize\u001b[39m=\u001b[39m(\u001b[39m6\u001b[39m,\u001b[39m6\u001b[39m),dpi\u001b[39m=\u001b[39m\u001b[39m200\u001b[39m)\n\u001b[0;32m----> <a href='vscode-notebook-cell:/Users/badw/github-projects/puppy/notebooks/example2.ipynb#X64sZmlsZQ%3D%3D?line=3'>4</a>\u001b[0m pl\u001b[39m.\u001b[39;49msingle_plot_with_weight(threshold\u001b[39m=\u001b[39;49m\u001b[39m0.5\u001b[39;49m,s\u001b[39m=\u001b[39;49m\u001b[39m6\u001b[39;49m,ax\u001b[39m=\u001b[39;49max,primitive_color\u001b[39m=\u001b[39;49m\u001b[39m'\u001b[39;49m\u001b[39mtab:blue\u001b[39;49m\u001b[39m'\u001b[39;49m,primitive_bs\u001b[39m=\u001b[39;49m\u001b[39mFalse\u001b[39;49;00m)\n\u001b[1;32m      <a href='vscode-notebook-cell:/Users/badw/github-projects/puppy/notebooks/example2.ipynb#X64sZmlsZQ%3D%3D?line=4'>5</a>\u001b[0m ax\u001b[39m.\u001b[39mset_ylabel(\u001b[39m'\u001b[39m\u001b[39mFrequency (THz)\u001b[39m\u001b[39m'\u001b[39m)\n\u001b[1;32m      <a href='vscode-notebook-cell:/Users/badw/github-projects/puppy/notebooks/example2.ipynb#X64sZmlsZQ%3D%3D?line=5'>6</a>\u001b[0m plt\u001b[39m.\u001b[39msavefig(\u001b[39m'\u001b[39m\u001b[39m../test.png\u001b[39m\u001b[39m'\u001b[39m)\n",
      "File \u001b[0;32m~/github-projects/puppy/puppy/plotting.py:98\u001b[0m, in \u001b[0;36mUnfolderPlotting.single_plot_with_weight\u001b[0;34m(self, ax, threshold, s, primitive_bs, primitive_color)\u001b[0m\n\u001b[1;32m     96\u001b[0m \u001b[39mfor\u001b[39;00m i,path \u001b[39min\u001b[39;00m \u001b[39menumerate\u001b[39m(\u001b[39mself\u001b[39m\u001b[39m.\u001b[39mdata[\u001b[39m'\u001b[39m\u001b[39mdata\u001b[39m\u001b[39m'\u001b[39m]):\n\u001b[1;32m     97\u001b[0m     \u001b[39mif\u001b[39;00m i \u001b[39m==\u001b[39m \u001b[39m0\u001b[39m:\n\u001b[0;32m---> 98\u001b[0m         labels\u001b[39m.\u001b[39mappend(\u001b[39mself\u001b[39;49m\u001b[39m.\u001b[39;49mdata[\u001b[39m'\u001b[39;49m\u001b[39mdata\u001b[39;49m\u001b[39m'\u001b[39;49m][path][\u001b[39m'\u001b[39;49m\u001b[39mprim_data\u001b[39;49m\u001b[39m'\u001b[39;49m][\u001b[39m'\u001b[39m\u001b[39mlabel\u001b[39m\u001b[39m'\u001b[39m])\n\u001b[1;32m     99\u001b[0m         lines\u001b[39m.\u001b[39mappend(\u001b[39mself\u001b[39m\u001b[39m.\u001b[39mdata[\u001b[39m'\u001b[39m\u001b[39mdata\u001b[39m\u001b[39m'\u001b[39m][path][\u001b[39m'\u001b[39m\u001b[39mprim_data\u001b[39m\u001b[39m'\u001b[39m][\u001b[39m'\u001b[39m\u001b[39mline\u001b[39m\u001b[39m'\u001b[39m])\n\u001b[1;32m    100\u001b[0m         pq \u001b[39m=\u001b[39m \u001b[39mself\u001b[39m\u001b[39m.\u001b[39mdata[\u001b[39m'\u001b[39m\u001b[39mdata\u001b[39m\u001b[39m'\u001b[39m][path][\u001b[39m'\u001b[39m\u001b[39mprim_data\u001b[39m\u001b[39m'\u001b[39m][\u001b[39m'\u001b[39m\u001b[39mq\u001b[39m\u001b[39m'\u001b[39m]\n",
      "\u001b[0;31mKeyError\u001b[0m: 'prim_data'"
     ]
    },
    {
     "data": {
      "image/png": "[encoded data removed]",
      "text/plain": [
       "<Figure size 1200x1200 with 1 Axes>"
      ]
     },
     "metadata": {},
     "output_type": "display_data"
    }
   ],
   "source": [
    "from sumo.plotting import sumo_base_style\n",
    "plt.style.use(sumo_base_style)\n",
    "fig,ax = plt.subplots(figsize=(6,6),dpi=200)\n",
    "pl.single_plot_with_weight(threshold=0.5,s=6,ax=ax,primitive_color='tab:blue',primitive_bs=False)\n",
    "ax.set_ylabel('Frequency (THz)')\n",
    "plt.savefig('../test.png')"
   ]
  },
  {
   "cell_type": "code",
   "execution_count": null,
   "metadata": {},
   "outputs": [],
   "source": []
  }
 ],
 "metadata": {
  "kernelspec": {
   "display_name": "py39",
   "language": "python",
   "name": "python3"
  },
  "language_info": {
   "codemirror_mode": {
    "name": "ipython",
    "version": 3
   },
   "file_extension": ".py",
   "mimetype": "text/x-python",
   "name": "python",
   "nbconvert_exporter": "python",
   "pygments_lexer": "ipython3",
   "version": "3.9.16"
  },
  "orig_nbformat": 4
 },
 "nbformat": 4,
 "nbformat_minor": 2
}
